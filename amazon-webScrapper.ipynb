{
 "cells": [
  {
   "cell_type": "code",
   "execution_count": 72,
   "id": "ba03fb70",
   "metadata": {},
   "outputs": [],
   "source": [
    "import csv\n",
    "from bs4 import BeautifulSoup\n",
    "from selenium import webdriver"
   ]
  },
  {
   "cell_type": "code",
   "execution_count": 73,
   "id": "73fd7054",
   "metadata": {},
   "outputs": [],
   "source": [
    "# Starting the webdriver\n",
    "driver = webdriver.Chrome()"
   ]
  },
  {
   "cell_type": "code",
   "execution_count": 74,
   "id": "863395dc",
   "metadata": {},
   "outputs": [],
   "source": [
    "url = 'https://www.amazon.in/s?k=bags&crid=2M096C61O4MLT&qid=1653308124&sprefix=ba%2Caps%2C283&ref=sr_pg_1'\n",
    "driver.get(url)"
   ]
  },
  {
   "cell_type": "markdown",
   "id": "a1a80215",
   "metadata": {},
   "source": [
    "## Extracting the features from the first record"
   ]
  },
  {
   "cell_type": "code",
   "execution_count": 75,
   "id": "23bad1e5",
   "metadata": {},
   "outputs": [],
   "source": [
    "soup = BeautifulSoup(driver.page_source,'html.parser')"
   ]
  },
  {
   "cell_type": "code",
   "execution_count": 76,
   "id": "f7acfe3b",
   "metadata": {},
   "outputs": [],
   "source": [
    "results = soup.find_all('div',{'data-component-type':'s-search-result'})"
   ]
  },
  {
   "cell_type": "code",
   "execution_count": 77,
   "id": "f357d046",
   "metadata": {},
   "outputs": [],
   "source": [
    "item = results[0]"
   ]
  },
  {
   "cell_type": "code",
   "execution_count": 78,
   "id": "13df8ea2",
   "metadata": {},
   "outputs": [],
   "source": [
    "atag = item.h2.a"
   ]
  },
  {
   "cell_type": "code",
   "execution_count": 79,
   "id": "421d378c",
   "metadata": {},
   "outputs": [
    {
     "data": {
      "text/plain": [
       "'URBAN TRIBE Havana 15.6\" inch Laptop Backpack for Men and Women | 27L Office/Work/Casual Bag | Water Repellent | Black'"
      ]
     },
     "execution_count": 79,
     "metadata": {},
     "output_type": "execute_result"
    }
   ],
   "source": [
    "product_name = atag.text.strip()\n",
    "product_name"
   ]
  },
  {
   "cell_type": "code",
   "execution_count": 62,
   "id": "997d8631",
   "metadata": {},
   "outputs": [
    {
     "data": {
      "text/plain": [
       "'https://www.amazon.com/sspa/click?ie=UTF8&spc=MTo1ODY1NTY2MTYwNTM2MjEwOjE2NzUyMjkwMDA6c3BfYnRmOjIwMTA4NzQ4ODI1Njk4OjowOjo&url=%2FJustify-Backpack-Compartments-Polyester-Waterproof%2Fdp%2FB0BRGCG7N5%2Fref%3Dsr_1_22_sspa%3Fcrid%3D2M096C61O4MLT%26keywords%3Dbags%26qid%3D1675229000%26sprefix%3Dba%252Caps%252C283%26sr%3D8-22-spons%26sp_csd%3Dd2lkZ2V0TmFtZT1zcF9idGY%26psc%3D1'"
      ]
     },
     "execution_count": 62,
     "metadata": {},
     "output_type": "execute_result"
    }
   ],
   "source": [
    "url = 'https://www.amazon.com'+atag.get('href')\n",
    "url"
   ]
  },
  {
   "cell_type": "code",
   "execution_count": 19,
   "id": "5e05dff4",
   "metadata": {},
   "outputs": [],
   "source": [
    "product_price = item.find('span','a-price')"
   ]
  },
  {
   "cell_type": "code",
   "execution_count": 23,
   "id": "a5bd0963",
   "metadata": {},
   "outputs": [
    {
     "data": {
      "text/plain": [
       "'₹998'"
      ]
     },
     "execution_count": 23,
     "metadata": {},
     "output_type": "execute_result"
    }
   ],
   "source": [
    "price = item.find('span','a-offscreen').text\n",
    "price"
   ]
  },
  {
   "cell_type": "code",
   "execution_count": 40,
   "id": "0591856b",
   "metadata": {},
   "outputs": [],
   "source": [
    "rating = item.i.text"
   ]
  },
  {
   "cell_type": "code",
   "execution_count": 43,
   "id": "0568efb4",
   "metadata": {},
   "outputs": [
    {
     "data": {
      "text/plain": [
       "'3.9 out of 5 stars'"
      ]
     },
     "execution_count": 43,
     "metadata": {},
     "output_type": "execute_result"
    }
   ],
   "source": [
    "rating"
   ]
  },
  {
   "cell_type": "code",
   "execution_count": 41,
   "id": "75ebd5c7",
   "metadata": {},
   "outputs": [
    {
     "data": {
      "text/plain": [
       "'683'"
      ]
     },
     "execution_count": 41,
     "metadata": {},
     "output_type": "execute_result"
    }
   ],
   "source": [
    "rating_count = item.find('span',{'class':'a-size-base'}).text\n",
    "rating_count"
   ]
  },
  {
   "cell_type": "markdown",
   "id": "e6bba594",
   "metadata": {},
   "source": [
    "## Function to generalize the above pattern to all products"
   ]
  },
  {
   "cell_type": "code",
   "execution_count": 45,
   "id": "dc652e8c",
   "metadata": {},
   "outputs": [],
   "source": [
    "def extract(item):\n",
    "    # Product name and url\n",
    "    atag = item.h2.a\n",
    "    product_name = atag.text.strip()\n",
    "    url = 'https://www.amazon.com'+atag.get('href')\n",
    "    \n",
    "    try:\n",
    "        # Product Price\n",
    "        product_price = item.find('span','a-price')\n",
    "        price = item.find('span','a-offscreen').text\n",
    "    except AttributeError:\n",
    "        return\n",
    "    \n",
    "    try:\n",
    "        # Rating and its count\n",
    "        rating = item.i.text\n",
    "        rating_count = item.find('span',{'class':'a-size-base'}).text\n",
    "    except AttributeError:\n",
    "        return\n",
    "    \n",
    "    result = (product_name,url,price,rating,rating_count)\n",
    "    \n",
    "    return result"
   ]
  },
  {
   "cell_type": "code",
   "execution_count": 46,
   "id": "cb7c5fed",
   "metadata": {},
   "outputs": [],
   "source": [
    "records = []\n",
    "results = soup.find_all('div',{'data-component-type':'s-search-result'})\n",
    "\n",
    "for item in results:\n",
    "    record = extract(item)\n",
    "    if record:\n",
    "        records.append(record)"
   ]
  },
  {
   "cell_type": "code",
   "execution_count": 51,
   "id": "381251c8",
   "metadata": {},
   "outputs": [
    {
     "data": {
      "text/plain": [
       "('URBAN TRIBE Havana 15.6\" inch Laptop Backpack for Men and Women | 27L Office/Work/Casual Bag | Water Repellent | Black',\n",
       " 'https://www.amazon.com/sspa/click?ie=UTF8&spc=MTo1ODY1NTY2MTYwNTM2MjEwOjE2NzUyMjkwMDA6c3BfYXRmOjIwMTA0MTQwMjYzNjk4OjowOjo&url=%2FUrban-Tribe-Laptop-Backpack-Havana%2Fdp%2FB01LXNNFDF%2Fref%3Dsr_1_1_sspa%3Fcrid%3D2M096C61O4MLT%26keywords%3Dbags%26qid%3D1675229000%26sprefix%3Dba%252Caps%252C283%26sr%3D8-1-spons%26sp_csd%3Dd2lkZ2V0TmFtZT1zcF9hdGY%26psc%3D1',\n",
       " '₹998',\n",
       " '3.9 out of 5 stars',\n",
       " '683')"
      ]
     },
     "execution_count": 51,
     "metadata": {},
     "output_type": "execute_result"
    }
   ],
   "source": [
    "records[0]"
   ]
  },
  {
   "cell_type": "markdown",
   "id": "258cf292",
   "metadata": {},
   "source": [
    "## Going to the next page"
   ]
  },
  {
   "cell_type": "code",
   "execution_count": 54,
   "id": "a37b06a1",
   "metadata": {},
   "outputs": [],
   "source": [
    "def get_url(search):\n",
    "    template = 'https://www.amazon.in/s?k={}&ref=nb_sb_noss_1'\n",
    "    search = search.replace(' ','+')\n",
    "    url = template.format(search)\n",
    "    # adding page query\n",
    "    url += '&page{}'\n",
    "    \n",
    "    return url"
   ]
  },
  {
   "cell_type": "markdown",
   "id": "61d73234",
   "metadata": {},
   "source": [
    "## Getting the details of all products"
   ]
  },
  {
   "cell_type": "code",
   "execution_count": 67,
   "id": "9ed0ec89",
   "metadata": {},
   "outputs": [],
   "source": [
    "def extract(item):\n",
    "    # Product name and url\n",
    "    atag = item.h2.a\n",
    "    product_name = atag.text.strip()\n",
    "    url = 'https://www.amazon.com'+atag.get('href')\n",
    "    \n",
    "    try:\n",
    "        # Product Price\n",
    "        product_price = item.find('span','a-price')\n",
    "        price = item.find('span','a-offscreen').text\n",
    "    except AttributeError:\n",
    "        return\n",
    "    \n",
    "    try:\n",
    "        # Rating and its count\n",
    "        rating = item.i.text\n",
    "        rating_count = item.find('span',{'class':'a-size-base'}).text\n",
    "    except AttributeError:\n",
    "        return\n",
    "    \n",
    "    result = (product_name,url,price,rating,rating_count)\n",
    "    \n",
    "    return result\n",
    "\n",
    "def get_url(search):\n",
    "    template = 'https://www.amazon.in/s?k={}&ref=nb_sb_noss_1'\n",
    "    search = search.replace(' ','+')\n",
    "    url = template.format(search)\n",
    "    # adding page query\n",
    "    url += '&page{}'\n",
    "    \n",
    "    return url\n",
    "\n",
    "# Main Function\n",
    "def main(search):\n",
    "    # Starting the webdriver\n",
    "    driver = webdriver.Chrome()\n",
    "    \n",
    "    record = []\n",
    "    url = get_url(search)\n",
    "    \n",
    "    for page in range(1,21):\n",
    "        driver.get(url.format(page))\n",
    "        soup = BeautifulSoup(driver.page_source,'html.parser')\n",
    "        results = soup.find_all('div',{'data-component-type':'s-search-result'})\n",
    "        \n",
    "        for item in results:\n",
    "            record = extract(item)\n",
    "            if record:\n",
    "                records.append(record)\n",
    "                \n",
    "    driver.close()\n",
    "    \n",
    "    \n",
    "    # saving all details to csv file\n",
    "    with open('results.csv','w',newline = '',encoding = 'utf-8') as f:\n",
    "        writer = csv.writer(f)\n",
    "        writer.writerow(['Product Name','Prodcut URL','Product Price','Rating','Rating Count'])\n",
    "        writer.writerows(records)\n",
    "    \n",
    "            \n",
    "        "
   ]
  },
  {
   "cell_type": "code",
   "execution_count": 68,
   "id": "afefbb5c",
   "metadata": {},
   "outputs": [],
   "source": [
    "main('bag')"
   ]
  },
  {
   "cell_type": "code",
   "execution_count": null,
   "id": "7ab01005",
   "metadata": {},
   "outputs": [],
   "source": []
  }
 ],
 "metadata": {
  "kernelspec": {
   "display_name": "Python 3 (ipykernel)",
   "language": "python",
   "name": "python3"
  },
  "language_info": {
   "codemirror_mode": {
    "name": "ipython",
    "version": 3
   },
   "file_extension": ".py",
   "mimetype": "text/x-python",
   "name": "python",
   "nbconvert_exporter": "python",
   "pygments_lexer": "ipython3",
   "version": "3.9.12"
  }
 },
 "nbformat": 4,
 "nbformat_minor": 5
}
